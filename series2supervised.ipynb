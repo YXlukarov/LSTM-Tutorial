{
 "cells": [
  {
   "cell_type": "markdown",
   "source": [
    "# How to Convert a Time Series to a Supervised Learning Problem in Python\n",
    "\n",
    "[原网页](https://machinelearningmastery.com/convert-time-series-supervised-learning-problem-python/)\n",
    "\n",
    "机器学习方法如深度学习可被用于时序预测。\n",
    "\n",
    "时许预测问题需要被重新设计为有监督学习问题后才能使用机器学习。从一个序列转为输入对和输出序列。\n",
    "\n",
    "这个教程的内容：\n",
    "\n",
    "- 如何编写函数来将一个时序数据集转换为有监督学习数据集。\n",
    "- 如何转化单变量时序数据用于机器学习。\n",
    "- 如何转化多变量时序数据用于机器学习。\n",
    "\n",
    "## Time Series vs Supervised Learning\n",
    "\n",
    "时序是一个通过time index来排序的数字序列。\n",
    "\n",
    "一个有监督学习问题是由输入模式（X）和输出模式（Y）组成的，由此算法可以学习到如何由输入模式预测输出模式。\n",
    "\n",
    "## Pandas shift() Function\n",
    "\n",
    "给出一个DataFrame，shift()函数用于生成某一列向前移或向后移的副本（上下滚动）。\n",
    "\n",
    "这个举措用于创建lag observation的列以及创建用于对在有监督学习格式下的时序数据集的forecast observation的列。\n",
    "\n",
    "下面是一个简单的例子。"
   ],
   "metadata": {
    "collapsed": false,
    "pycharm": {
     "name": "#%% md\n"
    }
   }
  },
  {
   "cell_type": "code",
   "execution_count": 9,
   "metadata": {
    "collapsed": true
   },
   "outputs": [
    {
     "name": "stdout",
     "output_type": "stream",
     "text": [
      "   t\n",
      "0  0\n",
      "1  1\n",
      "2  2\n",
      "3  3\n",
      "4  4\n",
      "5  5\n",
      "6  6\n",
      "7  7\n",
      "8  8\n",
      "9  9\n"
     ]
    }
   ],
   "source": [
    "from pandas import DataFrame\n",
    "df = DataFrame()\n",
    "df['t'] = [x for x in range(10)]\n",
    "print(df)"
   ]
  },
  {
   "cell_type": "markdown",
   "source": [
    "可以把所有observation都向下滚一个time step。把序列向前滚一步可以构成一个原始的有监督学习问题，尽管X和y的顺序反了。"
   ],
   "metadata": {
    "collapsed": false,
    "pycharm": {
     "name": "#%% md\n"
    }
   }
  },
  {
   "cell_type": "code",
   "execution_count": 2,
   "outputs": [
    {
     "name": "stdout",
     "output_type": "stream",
     "text": [
      "   t  t-1\n",
      "0  0  NaN\n",
      "1  1  0.0\n",
      "2  2  1.0\n",
      "3  3  2.0\n",
      "4  4  3.0\n",
      "5  5  4.0\n",
      "6  6  5.0\n",
      "7  7  6.0\n",
      "8  8  7.0\n",
      "9  9  8.0\n"
     ]
    }
   ],
   "source": [
    "from pandas import DataFrame\n",
    "df = DataFrame()\n",
    "df['t'] = [x for x in range(10)]\n",
    "df['t-1'] = df['t'].shift(1)\n",
    "print(df)\n"
   ],
   "metadata": {
    "collapsed": false,
    "pycharm": {
     "name": "#%%\n"
    }
   }
  },
  {
   "cell_type": "markdown",
   "source": [],
   "metadata": {
    "collapsed": false
   }
  }
 ],
 "metadata": {
  "kernelspec": {
   "display_name": "Python 3",
   "language": "python",
   "name": "python3"
  },
  "language_info": {
   "codemirror_mode": {
    "name": "ipython",
    "version": 2
   },
   "file_extension": ".py",
   "mimetype": "text/x-python",
   "name": "python",
   "nbconvert_exporter": "python",
   "pygments_lexer": "ipython2",
   "version": "2.7.6"
  }
 },
 "nbformat": 4,
 "nbformat_minor": 0
}